{
 "cells": [
  {
   "cell_type": "markdown",
   "metadata": {},
   "source": [
    "# Matematički softver\n",
    "## Prvi kolokvij"
   ]
  },
  {
   "cell_type": "markdown",
   "metadata": {},
   "source": [
    "Ovo je \"open book\" kolokvij. Dozvoljeno je korištenje bilo kakvih materijala — bilješke s vježbi,\n",
    "help, tutoriali, postovi na online forumima,... — nastalih _prije_ kolokvija (npr. dozvoljeno je na _StackOverflowu_ naći rješenje nekog zadatka, ali nije dozvoljeno tamo postaviti pitanje kako se rješava neki zadatak).\n",
    "\n",
    "Također, nije dozvoljena komunikacija (razgovor, _chat_, razmjena bilježaka) među studentima.\n",
    "\n",
    "Rješenja zadataka pišite u ovu bilježnicu, koju na kraju pošaljite sa Subjectom \"MS K1\" na veky@math.hr. Rješenje svakog zadatka mora biti samo sebi dovoljno (ponovite `import`e koji vam trebaju), i mora se moći izvršiti bez warninga i grešaka.\n",
    "\n",
    "Predviđeno vrijeme rješavanja je 90 minuta. Svaki zadatak vrijedi 8 bodova. Maksimalni broj bodova koji se može osvojiti je 40."
   ]
  },
  {
   "cell_type": "markdown",
   "metadata": {},
   "source": [
    "### Prvi zadatak"
   ]
  },
  {
   "cell_type": "markdown",
   "metadata": {},
   "source": [
    "Napišite funkciju `usporedi` koja prima dvije liste, u svakoj od kojih se nalaze samo cijeli brojevi (`int`) i stringovi (`str`). Ako nisu jednake duljine, `usporedi` vraća `False`. Ako jesu, `usporedi` treba ustanoviti jesu li elementi na odgovarajućim pozicijama \"slični\".\n",
    "\n",
    "* dva cijela broja su slični ako je jedan od njih (bilo koji) djeljiv onim drugim\n",
    "* dva stringa su slični ako su jednaki do na veličinu slova (_case insensitive_)\n",
    "* string i cijeli broj nisu nikada slični\n",
    "\n",
    "Primjerice, `usporedi([a, b, c], [d, e, f])` treba vratiti `True` ako su `a` i `b` slični, `c` i `d` slični, te `e` i `f` slični."
   ]
  },
  {
   "cell_type": "code",
   "execution_count": 11,
   "metadata": {},
   "outputs": [],
   "source": [
    "def slični(x, y):\n",
    "    if type(x) is type(y) is int: return not (x and y and x % y and y % x)\n",
    "    elif type(x) is type(y) is str: return x.casefold() == y.casefold()"
   ]
  },
  {
   "cell_type": "code",
   "execution_count": 3,
   "metadata": {},
   "outputs": [],
   "source": [
    "def usporedi(prva, druga):\n",
    "    return len(prva) == len(druga) and all(map(slični, prva, druga))"
   ]
  },
  {
   "cell_type": "code",
   "execution_count": 12,
   "metadata": {},
   "outputs": [
    {
     "data": {
      "text/plain": [
       "True"
      ]
     },
     "execution_count": 12,
     "metadata": {},
     "output_type": "execute_result"
    }
   ],
   "source": [
    "all([\n",
    "    usporedi([24, 'v'], [12, 'V']) == True,\n",
    "    usporedi([1, 2], [1]) == False,\n",
    "    usporedi([1, 't'], ['t', 1]) == False,\n",
    "    usporedi(['', 0, 'Wäßrig'], ['', 52, 'WÄSSRIG'])\n",
    "])"
   ]
  },
  {
   "cell_type": "markdown",
   "metadata": {},
   "source": [
    "### Drugi zadatak"
   ]
  },
  {
   "cell_type": "markdown",
   "metadata": {},
   "source": [
    "U varijabli `kocke` nalazi se tri milijuna rezultata bacanja igraće kocke."
   ]
  },
  {
   "cell_type": "code",
   "execution_count": 47,
   "metadata": {},
   "outputs": [],
   "source": [
    "import numpy as np"
   ]
  },
  {
   "cell_type": "code",
   "execution_count": 58,
   "metadata": {},
   "outputs": [],
   "source": [
    "kocke = 1 + np.random.randint(0, 6, 3_000_000, dtype=np.int8)"
   ]
  },
  {
   "cell_type": "markdown",
   "metadata": {},
   "source": [
    "#### a)\n",
    "\n",
    "Interpretirajte `kocke` kao niz pokusa bacanja po četiri kocke (ne kopirajte podatke, samo im promijenite oblik).\n",
    "\n",
    "Izračunajte, i izrazite u postotcima na dvije decimale, _a posteriori_ vjerojatnost da se u bacanju četiri kocke pojavi bar jedna šestica. Isplati li se kladiti (1:1) na taj događaj? "
   ]
  },
  {
   "cell_type": "code",
   "execution_count": 65,
   "metadata": {},
   "outputs": [],
   "source": [
    "def vjerojatnost(događaj):\n",
    "    vj = događaj.any(axis=1).mean()\n",
    "    print(format(vj, '.2%'))\n",
    "    return vj > .5"
   ]
  },
  {
   "cell_type": "code",
   "execution_count": 67,
   "metadata": {},
   "outputs": [
    {
     "name": "stdout",
     "output_type": "stream",
     "text": [
      "51.73%\n"
     ]
    },
    {
     "data": {
      "text/plain": [
       "True"
      ]
     },
     "execution_count": 67,
     "metadata": {},
     "output_type": "execute_result"
    }
   ],
   "source": [
    "pokus1 = kocke.reshape(-1, 4)\n",
    "vjerojatnost(pokus1 == 6)"
   ]
  },
  {
   "cell_type": "markdown",
   "metadata": {},
   "source": [
    "#### b)"
   ]
  },
  {
   "cell_type": "markdown",
   "metadata": {},
   "source": [
    "Sada reinterpretirajte `kocke` kao niz pokusa, svaki od kojih se sastoji od 24 bacanja 2 kocke (trodimenzionalni tenzor).\n",
    "\n",
    "Odgovorite na ista pitanja kao u **a)**, za događaj da se u 24 bacanja 2 kocke bar jednom pojavi dvostruka šestica."
   ]
  },
  {
   "cell_type": "code",
   "execution_count": 68,
   "metadata": {},
   "outputs": [
    {
     "name": "stdout",
     "output_type": "stream",
     "text": [
      "49.49%\n"
     ]
    },
    {
     "data": {
      "text/plain": [
       "False"
      ]
     },
     "execution_count": 68,
     "metadata": {},
     "output_type": "execute_result"
    }
   ],
   "source": [
    "pokus2 = kocke.reshape(-1, 24, 2)\n",
    "vjerojatnost(pokus2.min(axis=2) == 6)"
   ]
  },
  {
   "cell_type": "markdown",
   "metadata": {},
   "source": [
    "### Treći zadatak"
   ]
  },
  {
   "cell_type": "markdown",
   "metadata": {},
   "source": [
    "U datoteci `bodovi.csv` nalaze se bodovi studenata nekog izmišljenog kolegija. Stupci su redom ime i prezime studenta, bodovi s prvog i drugog kolokvija, te bodovi s tri zadaće.\n",
    "\n",
    "* Učitajte datoteku u DataFrame.\n",
    "* Dodajte stupac `Kolokviji` koji predstavlja zbroj bodova na oba kolokvija.\n",
    "* Dodajte stupac `Zadaće` koji predstavlja ukupan broj bodova na zadaćama. Najslabije napisana zadaća se ne računa.\n",
    "* Odredite je li bolje (u prosjeku) bio napisan prvi ili drugi kolokvij.\n",
    "* Ispišite _top 10_ studenata po ukupnim bodovima (kolokviji plus zadaće).\n",
    "\n",
    "Sve radite u jednom DataFrameu. Smijete dodavati i pomoćne stupce (osim dva gore zadana), ali ih morate obrisati kasnije."
   ]
  },
  {
   "cell_type": "code",
   "execution_count": 107,
   "metadata": {},
   "outputs": [],
   "source": [
    "import pandas as pd"
   ]
  },
  {
   "cell_type": "code",
   "execution_count": 180,
   "metadata": {},
   "outputs": [],
   "source": [
    "df = pd.read_csv('bodovi.tsv', delimiter='\\t', names='ime prezime k1 k2 z1 z2 z3'.split())"
   ]
  },
  {
   "cell_type": "code",
   "execution_count": 182,
   "metadata": {},
   "outputs": [],
   "source": [
    "df['Kolokviji'] = df['k1'] + df['k2']"
   ]
  },
  {
   "cell_type": "code",
   "execution_count": 183,
   "metadata": {},
   "outputs": [],
   "source": [
    "zadaće = df[['z1', 'z2', 'z3']]\n",
    "df['Zadaće'] = zadaće.sum(axis=1) - zadaće.min(axis=1)"
   ]
  },
  {
   "cell_type": "code",
   "execution_count": 184,
   "metadata": {},
   "outputs": [
    {
     "data": {
      "text/plain": [
       "'k2'"
      ]
     },
     "execution_count": 184,
     "metadata": {},
     "output_type": "execute_result"
    }
   ],
   "source": [
    "df[['k1', 'k2']].mean().idxmax()"
   ]
  },
  {
   "cell_type": "code",
   "execution_count": 185,
   "metadata": {},
   "outputs": [],
   "source": [
    "df['Ukupno'] = df['Kolokviji'] + df['Zadaće']"
   ]
  },
  {
   "cell_type": "code",
   "execution_count": 194,
   "metadata": {},
   "outputs": [
    {
     "data": {
      "text/html": [
       "<div>\n",
       "<style scoped>\n",
       "    .dataframe tbody tr th:only-of-type {\n",
       "        vertical-align: middle;\n",
       "    }\n",
       "\n",
       "    .dataframe tbody tr th {\n",
       "        vertical-align: top;\n",
       "    }\n",
       "\n",
       "    .dataframe thead th {\n",
       "        text-align: right;\n",
       "    }\n",
       "</style>\n",
       "<table border=\"1\" class=\"dataframe\">\n",
       "  <thead>\n",
       "    <tr style=\"text-align: right;\">\n",
       "      <th></th>\n",
       "      <th>ime</th>\n",
       "      <th>prezime</th>\n",
       "    </tr>\n",
       "  </thead>\n",
       "  <tbody>\n",
       "    <tr>\n",
       "      <th>410</th>\n",
       "      <td>Eliza</td>\n",
       "      <td>Mora</td>\n",
       "    </tr>\n",
       "    <tr>\n",
       "      <th>599</th>\n",
       "      <td>Mercedes</td>\n",
       "      <td>Boone</td>\n",
       "    </tr>\n",
       "    <tr>\n",
       "      <th>170</th>\n",
       "      <td>Leslie</td>\n",
       "      <td>Glass</td>\n",
       "    </tr>\n",
       "    <tr>\n",
       "      <th>50</th>\n",
       "      <td>Lea</td>\n",
       "      <td>Henry</td>\n",
       "    </tr>\n",
       "    <tr>\n",
       "      <th>250</th>\n",
       "      <td>Madilyn</td>\n",
       "      <td>Martinez</td>\n",
       "    </tr>\n",
       "    <tr>\n",
       "      <th>380</th>\n",
       "      <td>Brittany</td>\n",
       "      <td>Kaufman</td>\n",
       "    </tr>\n",
       "    <tr>\n",
       "      <th>204</th>\n",
       "      <td>Makaila</td>\n",
       "      <td>Schaefer</td>\n",
       "    </tr>\n",
       "    <tr>\n",
       "      <th>603</th>\n",
       "      <td>Joy</td>\n",
       "      <td>Dorsey</td>\n",
       "    </tr>\n",
       "    <tr>\n",
       "      <th>892</th>\n",
       "      <td>Braylon</td>\n",
       "      <td>Sherman</td>\n",
       "    </tr>\n",
       "    <tr>\n",
       "      <th>909</th>\n",
       "      <td>Hillary</td>\n",
       "      <td>Gentry</td>\n",
       "    </tr>\n",
       "  </tbody>\n",
       "</table>\n",
       "</div>"
      ],
      "text/plain": [
       "          ime   prezime\n",
       "410     Eliza      Mora\n",
       "599  Mercedes     Boone\n",
       "170    Leslie     Glass\n",
       "50        Lea     Henry\n",
       "250   Madilyn  Martinez\n",
       "380  Brittany   Kaufman\n",
       "204   Makaila  Schaefer\n",
       "603       Joy    Dorsey\n",
       "892   Braylon   Sherman\n",
       "909   Hillary    Gentry"
      ]
     },
     "execution_count": 194,
     "metadata": {},
     "output_type": "execute_result"
    }
   ],
   "source": [
    "df.sort_values('Ukupno', ascending=False).head(10)[['ime', 'prezime']]"
   ]
  },
  {
   "cell_type": "code",
   "execution_count": 195,
   "metadata": {},
   "outputs": [],
   "source": [
    "del df['Ukupno']"
   ]
  },
  {
   "cell_type": "markdown",
   "metadata": {},
   "source": [
    "### Četvrti zadatak"
   ]
  },
  {
   "cell_type": "markdown",
   "metadata": {},
   "source": [
    "Nacrtajte, jedan pored drugog sa zajedničkom osi ordinata, grafove funkcijâ $f(x)=1/x$ i $g(x)=1/x^2$ na segmentu $[-1,1]$."
   ]
  },
  {
   "cell_type": "code",
   "execution_count": 12,
   "metadata": {},
   "outputs": [],
   "source": [
    "import matplotlib.pyplot as plt\n",
    "import numpy as np"
   ]
  },
  {
   "cell_type": "code",
   "execution_count": 13,
   "metadata": {},
   "outputs": [],
   "source": [
    "%matplotlib agg"
   ]
  },
  {
   "cell_type": "code",
   "execution_count": 14,
   "metadata": {},
   "outputs": [
    {
     "data": {
      "image/png": "[encoded data removed]",
      "text/plain": [
       "<matplotlib.figure.Figure at 0x235e11a6748>"
      ]
     },
     "execution_count": 14,
     "metadata": {},
     "output_type": "execute_result"
    }
   ],
   "source": [
    "fig, (ax1, ax2) = plt.subplots(1, 2, sharey=True)\n",
    "xneg = np.linspace(-1, 0)[:-1]\n",
    "xpoz = np.linspace(0, 1)[1:]\n",
    "ax2.set_ylim(-50, 50)\n",
    "ax1.plot(xpoz, 1/xpoz, 'r')\n",
    "ax1.plot(xneg, 1/xneg, 'r')\n",
    "ax2.plot(xpoz, 1/xpoz**2, 'g')\n",
    "ax2.plot(xneg, 1/xneg**2, 'g')\n",
    "fig"
   ]
  },
  {
   "cell_type": "markdown",
   "metadata": {},
   "source": [
    "### Peti zadatak"
   ]
  },
  {
   "cell_type": "markdown",
   "metadata": {},
   "source": [
    "Riješite egzaktno diferencijalnu jednadžbu $x\\,y\\,'+y=x\\sin x$ uz početni uvjet $y\\left(\\frac\\pi2\\right)=-\\frac12$."
   ]
  },
  {
   "cell_type": "code",
   "execution_count": 16,
   "metadata": {},
   "outputs": [],
   "source": [
    "import sympy as sp"
   ]
  },
  {
   "cell_type": "code",
   "execution_count": 17,
   "metadata": {},
   "outputs": [],
   "source": [
    "sp.init_printing()"
   ]
  },
  {
   "cell_type": "code",
   "execution_count": 19,
   "metadata": {},
   "outputs": [],
   "source": [
    "x = sp.Symbol('x')\n",
    "y = sp.Function('y')\n",
    "jedn = sp.Eq(x * sp.Derivative(y(x), x) + y(x), x * sp.sin(x))"
   ]
  },
  {
   "cell_type": "code",
   "execution_count": 23,
   "metadata": {},
   "outputs": [
    {
     "data": {
      "image/png": "[encoded data removed]",
      "text/latex": [
       "$$y{\\left (x \\right )} = \\frac{C_{1}}{x} - \\cos{\\left (x \\right )} + \\frac{1}{x} \\sin{\\left (x \\right )}$$"
      ],
      "text/plain": [
       "       C₁            sin(x)\n",
       "y(x) = ── - cos(x) + ──────\n",
       "       x               x   "
      ]
     },
     "execution_count": 23,
     "metadata": {},
     "output_type": "execute_result"
    }
   ],
   "source": [
    "opće = sp.dsolve(jedn)\n",
    "opće"
   ]
  },
  {
   "cell_type": "code",
   "execution_count": 45,
   "metadata": {},
   "outputs": [
    {
     "data": {
      "image/png": "[encoded data removed]",
      "text/latex": [
       "$$\\left \\{ C_{1} : -1 - \\frac{\\pi}{4}\\right \\}$$"
      ],
      "text/plain": [
       "⎧         π⎫\n",
       "⎨C₁: -1 - ─⎬\n",
       "⎩         4⎭"
      ]
     },
     "execution_count": 45,
     "metadata": {},
     "output_type": "execute_result"
    }
   ],
   "source": [
    "konstanta, = sp.solve(opće.subs({x: sp.pi / 2, y(x): -sp.S(1)/2}), dict=True)\n",
    "konstanta"
   ]
  },
  {
   "cell_type": "code",
   "execution_count": 55,
   "metadata": {},
   "outputs": [
    {
     "data": {
      "image/png": "[encoded data removed]",
      "text/latex": [
       "$$y{\\left (x \\right )} = - \\cos{\\left (x \\right )} + \\frac{1}{x} \\sin{\\left (x \\right )} + \\frac{1}{x} \\left(-1 - \\frac{\\pi}{4}\\right)$$"
      ],
      "text/plain": [
       "                               π\n",
       "                          -1 - ─\n",
       "                 sin(x)        4\n",
       "y(x) = -cos(x) + ────── + ──────\n",
       "                   x        x   "
      ]
     },
     "execution_count": 55,
     "metadata": {},
     "output_type": "execute_result"
    }
   ],
   "source": [
    "opće.subs(konstanta)"
   ]
  },
  {
   "cell_type": "code",
   "execution_count": null,
   "metadata": {},
   "outputs": [],
   "source": []
  }
 ],
 "metadata": {
  "kernelspec": {
   "display_name": "Python 3",
   "language": "python",
   "name": "python3"
  },
  "language_info": {
   "codemirror_mode": {
    "name": "ipython",
    "version": 3
   },
   "file_extension": ".py",
   "mimetype": "text/x-python",
   "name": "python",
   "nbconvert_exporter": "python",
   "pygments_lexer": "ipython3",
   "version": "3.6.4"
  }
 },
 "nbformat": 4,
 "nbformat_minor": 2
}
